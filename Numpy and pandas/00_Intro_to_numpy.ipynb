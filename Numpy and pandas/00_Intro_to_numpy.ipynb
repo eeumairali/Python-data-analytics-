{
 "cells": [
  {
   "cell_type": "code",
   "execution_count": 1,
   "id": "174e6f14",
   "metadata": {},
   "outputs": [],
   "source": [
    "import numpy as np"
   ]
  },
  {
   "cell_type": "code",
   "execution_count": 7,
   "id": "f728b0dd",
   "metadata": {},
   "outputs": [],
   "source": [
    "prices = [100,200,150,300,250,400,350,500,450,600]\n",
    "for price in prices:\n",
    "    price *5"
   ]
  },
  {
   "cell_type": "code",
   "execution_count": 9,
   "id": "032c869c",
   "metadata": {},
   "outputs": [],
   "source": [
    "## i can perform a vectorized operation on the prices"
   ]
  },
  {
   "cell_type": "code",
   "execution_count": 10,
   "id": "ee2ea40b",
   "metadata": {},
   "outputs": [
    {
     "data": {
      "text/plain": [
       "array([150., 300., 225., 450., 375., 600., 525., 750., 675., 900.])"
      ]
     },
     "execution_count": 10,
     "metadata": {},
     "output_type": "execute_result"
    }
   ],
   "source": [
    "np_prices = np.array(prices)\n",
    "np_prices * 1.5"
   ]
  },
  {
   "cell_type": "code",
   "execution_count": 11,
   "id": "a360a2e9",
   "metadata": {},
   "outputs": [
    {
     "data": {
      "text/plain": [
       "numpy.ndarray"
      ]
     },
     "execution_count": 11,
     "metadata": {},
     "output_type": "execute_result"
    }
   ],
   "source": [
    "type(np_prices)"
   ]
  },
  {
   "cell_type": "code",
   "execution_count": 16,
   "id": "80d1607b",
   "metadata": {},
   "outputs": [
    {
     "data": {
      "text/plain": [
       "array([[100, 200, 150],\n",
       "       [300, 250, 400],\n",
       "       [350, 500, 450]])"
      ]
     },
     "execution_count": 16,
     "metadata": {},
     "output_type": "execute_result"
    }
   ],
   "source": [
    "# two dimensional array\n",
    "data = np.array(\n",
    "\n",
    "    [\n",
    "        [100, 200, 150],\n",
    "        [300, 250, 400],\n",
    "        [350, 500, 450]\n",
    "    ]\n",
    ")\n",
    "data"
   ]
  },
  {
   "cell_type": "code",
   "execution_count": 18,
   "id": "91e004d5",
   "metadata": {},
   "outputs": [
    {
     "data": {
      "text/plain": [
       "[[1, 2, 3], [4, 5, 6]]"
      ]
     },
     "execution_count": 18,
     "metadata": {},
     "output_type": "execute_result"
    }
   ],
   "source": [
    "a = [1,2,3]\n",
    "b = [4,5,6]\n",
    "c = [a,b]\n",
    "c"
   ]
  },
  {
   "cell_type": "code",
   "execution_count": 19,
   "id": "f1d5a1c4",
   "metadata": {},
   "outputs": [
    {
     "data": {
      "text/plain": [
       "array([[1, 2, 3],\n",
       "       [4, 5, 6]])"
      ]
     },
     "execution_count": 19,
     "metadata": {},
     "output_type": "execute_result"
    }
   ],
   "source": [
    "np.array(c)"
   ]
  },
  {
   "cell_type": "code",
   "execution_count": 146,
   "id": "e016bd42",
   "metadata": {},
   "outputs": [
    {
     "data": {
      "text/plain": [
       "array([[0.29995804, 0.47134249, 0.75600876, 0.92241591],\n",
       "       [0.3071084 , 0.0274405 , 0.13015536, 0.20037732],\n",
       "       [0.34912886, 0.51830742, 0.24266818, 0.42035134]])"
      ]
     },
     "execution_count": 146,
     "metadata": {},
     "output_type": "execute_result"
    }
   ],
   "source": [
    "data = np.random.rand(3, 4)  # 3 rows, 4 columns\n",
    "data"
   ]
  },
  {
   "cell_type": "code",
   "execution_count": 181,
   "id": "243897c1",
   "metadata": {},
   "outputs": [
    {
     "data": {
      "text/plain": [
       "array([[52, 93, 15, 72],\n",
       "       [61, 21, 83, 87],\n",
       "       [75, 75, 88, 24]])"
      ]
     },
     "execution_count": 181,
     "metadata": {},
     "output_type": "execute_result"
    }
   ],
   "source": [
    "np.random.seed(42)  # For reproducibility\n",
    "data = np.random.randint(1,100, size=(3, 4))  # 3 rows, 4 columns\n",
    "data"
   ]
  },
  {
   "cell_type": "code",
   "execution_count": 182,
   "id": "7d59baf0",
   "metadata": {},
   "outputs": [
    {
     "data": {
      "text/plain": [
       "93"
      ]
     },
     "execution_count": 182,
     "metadata": {},
     "output_type": "execute_result"
    }
   ],
   "source": [
    "data.max()"
   ]
  },
  {
   "cell_type": "code",
   "execution_count": 188,
   "id": "4c3d22b4",
   "metadata": {},
   "outputs": [
    {
     "data": {
      "text/plain": [
       "array([1. , 1.1, 1.2, 1.3, 1.4, 1.5, 1.6, 1.7, 1.8, 1.9, 2. , 2.1, 2.2,\n",
       "       2.3, 2.4, 2.5, 2.6, 2.7, 2.8, 2.9, 3. , 3.1, 3.2, 3.3, 3.4, 3.5,\n",
       "       3.6, 3.7, 3.8, 3.9, 4. , 4.1, 4.2, 4.3, 4.4, 4.5, 4.6, 4.7, 4.8,\n",
       "       4.9])"
      ]
     },
     "execution_count": 188,
     "metadata": {},
     "output_type": "execute_result"
    }
   ],
   "source": [
    "x = np.arange(1,5,0.1) # start # stop # step\n",
    "x"
   ]
  },
  {
   "cell_type": "code",
   "execution_count": 192,
   "id": "61677e85",
   "metadata": {},
   "outputs": [
    {
     "data": {
      "text/plain": [
       "array([1.        , 1.21052632, 1.42105263, 1.63157895, 1.84210526,\n",
       "       2.05263158, 2.26315789, 2.47368421, 2.68421053, 2.89473684,\n",
       "       3.10526316, 3.31578947, 3.52631579, 3.73684211, 3.94736842,\n",
       "       4.15789474, 4.36842105, 4.57894737, 4.78947368, 5.        ])"
      ]
     },
     "execution_count": 192,
     "metadata": {},
     "output_type": "execute_result"
    }
   ],
   "source": [
    "x = np.linspace(1, 5, 20)  # start, stop, number of points\n",
    "x"
   ]
  },
  {
   "cell_type": "markdown",
   "id": "fbd92cb5",
   "metadata": {},
   "source": [
    "### indexing"
   ]
  },
  {
   "cell_type": "code",
   "execution_count": null,
   "id": "98f0420b",
   "metadata": {},
   "outputs": [
    {
     "data": {
      "text/plain": [
       "array([  1,   2,   3, 100, 100])"
      ]
     },
     "execution_count": 195,
     "metadata": {},
     "output_type": "execute_result"
    }
   ],
   "source": [
    "x = np.array([1,2,3,4,5])\n",
    "x[3:] = 100\n",
    "\n",
    "\n",
    "x"
   ]
  },
  {
   "cell_type": "code",
   "execution_count": 200,
   "id": "a9816910",
   "metadata": {},
   "outputs": [
    {
     "data": {
      "text/plain": [
       "(array([2], dtype=int64),)"
      ]
     },
     "execution_count": 200,
     "metadata": {},
     "output_type": "execute_result"
    }
   ],
   "source": [
    "np.where(x==3)"
   ]
  },
  {
   "cell_type": "code",
   "execution_count": 199,
   "id": "770bd1cb",
   "metadata": {},
   "outputs": [
    {
     "name": "stdout",
     "output_type": "stream",
     "text": [
      "[[7 2 0 3]\n",
      " [1 7 3 1]\n",
      " [5 5 9 3]]\n"
     ]
    },
    {
     "data": {
      "text/plain": [
       "array([[10,  2,  0,  3],\n",
       "       [ 1, 10,  3,  1],\n",
       "       [ 5,  5, 10,  3]])"
      ]
     },
     "execution_count": 199,
     "metadata": {},
     "output_type": "execute_result"
    }
   ],
   "source": [
    "data = np.random.randint(0, 10, (3, 4))  # 3 rows, 4 columns with values between 0 and 10\n",
    "ind = np.where(data > 5)  # Get indices where data is greater than 5\n",
    "print(data)\n",
    "data[ind] = 10\n",
    "data"
   ]
  },
  {
   "cell_type": "code",
   "execution_count": 201,
   "id": "5f41e5a9",
   "metadata": {},
   "outputs": [
    {
     "data": {
      "text/plain": [
       "array([[3.16227766, 1.41421356, 0.        , 1.73205081],\n",
       "       [1.        , 3.16227766, 1.73205081, 1.        ],\n",
       "       [2.23606798, 2.23606798, 3.16227766, 1.73205081]])"
      ]
     },
     "execution_count": 201,
     "metadata": {},
     "output_type": "execute_result"
    }
   ],
   "source": [
    "### some famous function of nupy\n",
    "np.sqrt(data)  # Square root of each element"
   ]
  },
  {
   "cell_type": "code",
   "execution_count": 202,
   "id": "a419c03c",
   "metadata": {},
   "outputs": [
    {
     "name": "stderr",
     "output_type": "stream",
     "text": [
      "C:\\Users\\eeuma\\AppData\\Local\\Temp\\ipykernel_38796\\510968893.py:1: RuntimeWarning: divide by zero encountered in log\n",
      "  np.log(data)  # Natural logarithm of each element\n"
     ]
    },
    {
     "data": {
      "text/plain": [
       "array([[2.30258509, 0.69314718,       -inf, 1.09861229],\n",
       "       [0.        , 2.30258509, 1.09861229, 0.        ],\n",
       "       [1.60943791, 1.60943791, 2.30258509, 1.09861229]])"
      ]
     },
     "execution_count": 202,
     "metadata": {},
     "output_type": "execute_result"
    }
   ],
   "source": [
    "np.log(data)  # Natural logarithm of each element"
   ]
  },
  {
   "cell_type": "code",
   "execution_count": 203,
   "id": "8af14ec4",
   "metadata": {},
   "outputs": [
    {
     "data": {
      "text/plain": [
       "array([[2.20264658e+04, 7.38905610e+00, 1.00000000e+00, 2.00855369e+01],\n",
       "       [2.71828183e+00, 2.20264658e+04, 2.00855369e+01, 2.71828183e+00],\n",
       "       [1.48413159e+02, 1.48413159e+02, 2.20264658e+04, 2.00855369e+01]])"
      ]
     },
     "execution_count": 203,
     "metadata": {},
     "output_type": "execute_result"
    }
   ],
   "source": [
    "np.exp(data)  # Exponential of each element"
   ]
  },
  {
   "cell_type": "code",
   "execution_count": null,
   "id": "c4abae8a",
   "metadata": {},
   "outputs": [],
   "source": [
    "import matplotlib.pyplot as plt"
   ]
  },
  {
   "cell_type": "code",
   "execution_count": 214,
   "id": "1cfa14f9",
   "metadata": {},
   "outputs": [
    {
     "data": {
      "image/png": "[encoded data removed]",
      "text/plain": [
       "<Figure size 640x480 with 1 Axes>"
      ]
     },
     "metadata": {},
     "output_type": "display_data"
    }
   ],
   "source": [
    "x = np.linspace(1,10,100)\n",
    "y = np.sin(x)\n",
    "z = np.cos(x)\n",
    "l = np.log(x)\n",
    "\n",
    "plt.plot(x, y)\n",
    "plt.plot(x, z)\n",
    "plt.plot(x, l)\n",
    "\n",
    "plt.xlabel('time')\n",
    "plt.ylabel('amplitude')\n",
    "plt.title('Sine and Cosine Waves with Logarithm')\n",
    "plt.legend(['Sine', 'Cosine', 'Logarithm'])\n",
    "plt.grid(True)\n",
    "plt.savefig('sine_cosine.png', dpi=300, bbox_inches='tight')"
   ]
  },
  {
   "cell_type": "code",
   "execution_count": 211,
   "id": "d403b22a",
   "metadata": {},
   "outputs": [
    {
     "data": {
      "text/plain": [
       "<matplotlib.collections.PathCollection at 0x293ff8f1d50>"
      ]
     },
     "execution_count": 211,
     "metadata": {},
     "output_type": "execute_result"
    },
    {
     "data": {
      "image/png": "[encoded data removed]",
      "text/plain": [
       "<Figure size 640x480 with 1 Axes>"
      ]
     },
     "metadata": {},
     "output_type": "display_data"
    }
   ],
   "source": [
    "plt.scatter(x, y, color='blue', label='Sine')\n",
    "plt.scatter(x, z, color='red', label='Cosine')"
   ]
  },
  {
   "cell_type": "code",
   "execution_count": 212,
   "id": "dd548f82",
   "metadata": {},
   "outputs": [
    {
     "data": {
      "text/plain": [
       "<BarContainer object of 4 artists>"
      ]
     },
     "execution_count": 212,
     "metadata": {},
     "output_type": "execute_result"
    },
    {
     "data": {
      "image/png": "[encoded data removed]",
      "text/plain": [
       "<Figure size 640x480 with 1 Axes>"
      ]
     },
     "metadata": {},
     "output_type": "display_data"
    }
   ],
   "source": [
    "fruits = np.array(['apple', 'banana', 'cherry', 'date'])\n",
    "prices = np.array([1.2, 0.5, 2.5, 3.0])\n",
    "\n",
    "plt.bar(fruits, prices, color='green')"
   ]
  },
  {
   "cell_type": "code",
   "execution_count": null,
   "id": "6c7c066c",
   "metadata": {},
   "outputs": [],
   "source": [
    "pip install matplotlib"
   ]
  }
 ],
 "metadata": {
  "kernelspec": {
   "display_name": "streamlit_env",
   "language": "python",
   "name": "python3"
  },
  "language_info": {
   "codemirror_mode": {
    "name": "ipython",
    "version": 3
   },
   "file_extension": ".py",
   "mimetype": "text/x-python",
   "name": "python",
   "nbconvert_exporter": "python",
   "pygments_lexer": "ipython3",
   "version": "3.10.18"
  }
 },
 "nbformat": 4,
 "nbformat_minor": 5
}
