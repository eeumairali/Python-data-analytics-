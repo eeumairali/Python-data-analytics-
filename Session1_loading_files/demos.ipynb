{
 "cells": [
  {
   "cell_type": "code",
   "execution_count": 9,
   "id": "5478fbec",
   "metadata": {},
   "outputs": [
    {
     "name": "stdout",
     "output_type": "stream",
     "text": [
      "Name: chris\n",
      "Value: 200\n",
      "Color: red\n"
     ]
    }
   ],
   "source": [
    "fruits = 'chris,200,red\\n'.strip()\n",
    "name,val,color = fruits.split(',')\n",
    "print(f'Name: {name}')\n",
    "print(f'Value: {val}')\n",
    "print(f'Color: {color}')\n"
   ]
  },
  {
   "cell_type": "code",
   "execution_count": 15,
   "id": "eaeaf82a",
   "metadata": {},
   "outputs": [
    {
     "data": {
      "text/plain": [
       "['apple', 'orange', 'mango']"
      ]
     },
     "execution_count": 15,
     "metadata": {},
     "output_type": "execute_result"
    }
   ],
   "source": [
    "'apple orange mango'.split()"
   ]
  }
 ],
 "metadata": {
  "kernelspec": {
   "display_name": "base",
   "language": "python",
   "name": "python3"
  },
  "language_info": {
   "codemirror_mode": {
    "name": "ipython",
    "version": 3
   },
   "file_extension": ".py",
   "mimetype": "text/x-python",
   "name": "python",
   "nbconvert_exporter": "python",
   "pygments_lexer": "ipython3",
   "version": "3.12.9"
  }
 },
 "nbformat": 4,
 "nbformat_minor": 5
}
